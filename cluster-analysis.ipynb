{
 "cells": [
  {
   "cell_type": "markdown",
   "metadata": {},
   "source": [
    "# CaCO$_3$ Cluster Analysis"
   ]
  },
  {
   "cell_type": "markdown",
   "metadata": {},
   "source": [
    "This interactive notebook uses MDAnalysis and NetworkX libraries to determine ion species emerging in supersaturated CaCO$_3$(aq) solution siumulations. Liquid-liquid phase separation occurs in these solutions, establishing a pseudo-equilibrium between dense liquid CaCO$_3$ phases and lean ion solutions, [see Smeets, Finney et al.](https://www.pnas.org/doi/10.1073/pnas.1700342114) However, due to finite size effects, discussed by e.g., [Li et al.](https://www.biorxiv.org/content/10.1101/2022.11.11.515961v1), phase seapartion is limited to simulations with sufficient numbers of ions to supply and sustain the growth of the emerging phase beyond some critical size threshold.\n",
    "\n",
    "In what follows, we use the functionaliity of MDAnalysis and NetworkX to build adjacency matrices on which we perform graph analyses to establish connected subsets of ions as a function of simulation time. Ions are connected through their first coordination spheres, informed by considering cation-anion pair distribution functions. Based on the cluster analyses, we establish the properties of lean ion solutions and dense liquid phases and the dynamics for phase separation."
   ]
  },
  {
   "cell_type": "markdown",
   "metadata": {},
   "source": [
    "### Import the necessary libraries"
   ]
  },
  {
   "cell_type": "code",
   "execution_count": 1,
   "metadata": {},
   "outputs": [
    {
     "data": {
      "application/vnd.jupyter.widget-view+json": {
       "model_id": "bf316bcc3a5e4d6faa92b8fa0ea9e88a",
       "version_major": 2,
       "version_minor": 0
      },
      "text/plain": []
     },
     "metadata": {},
     "output_type": "display_data"
    }
   ],
   "source": [
    "# MDAnalysis\n",
    "import MDAnalysis as mda\n",
    "import nglview as nv\n",
    "\n",
    "# NetworkX\n",
    "import networkx as nx\n",
    "from networkx.drawing.nx_agraph import graphviz_layout as layout\n",
    "\n",
    "# Data structures\n",
    "import pandas as pd\n",
    "import numpy as np\n",
    "\n",
    "# Plotting\n",
    "import matplotlib.pyplot as plt\n",
    "from mpl_toolkits import mplot3d\n",
    "%matplotlib inline\n",
    "import seaborn as sns\n",
    "\n",
    "# Statistical analyses\n",
    "import scipy.spatial.distance as ssd\n",
    "from scipy import constants\n",
    "from scipy.cluster.hierarchy import dendrogram, linkage\n",
    "from sklearn.neighbors import KernelDensity\n",
    "\n",
    "# Misc.\n",
    "import time\n",
    "import random"
   ]
  },
  {
   "cell_type": "code",
   "execution_count": 2,
   "metadata": {},
   "outputs": [
    {
     "name": "stdout",
     "output_type": "stream",
     "text": [
      "MDAnalysis v. 2.1.0\n",
      "NGLView v. 3.0.3\n",
      "NetworkX v. 2.4\n"
     ]
    }
   ],
   "source": [
    "print('MDAnalysis v.',mda.__version__)\n",
    "print('NGLView v.',nv.__version__)\n",
    "print('NetworkX v.',nx.__version__)"
   ]
  },
  {
   "cell_type": "markdown",
   "metadata": {},
   "source": [
    "### Set pyplot paramters for publication-ready figures"
   ]
  },
  {
   "cell_type": "code",
   "execution_count": 3,
   "metadata": {},
   "outputs": [],
   "source": [
    "plt.rcParams.update({\n",
    "    \"text.usetex\": False,\n",
    "    \"font.family\": \"serif\",\n",
    "    \"font.serif\": [\"computer modern roman\"],\n",
    "    \"font.size\": 14})\n",
    "plw = 0.6\n",
    "pcs = 3\n",
    "pms = 3\n",
    "bfillc = [0.9,0.9,0.9]\n",
    "plt.rcParams['axes.linewidth'] = plw\n",
    "plt.rcParams['xtick.top'] = True\n",
    "plt.rcParams['xtick.direction'] = 'in'\n",
    "plt.rcParams['xtick.major.width'] = plw\n",
    "plt.rcParams['xtick.minor.width'] = plw\n",
    "plt.rcParams['xtick.minor.visible'] = True\n",
    "plt.rcParams['xtick.major.size'] = 4.5\n",
    "plt.rcParams['ytick.right'] = True\n",
    "plt.rcParams['ytick.direction'] = 'in'\n",
    "plt.rcParams['ytick.major.width'] = plw\n",
    "plt.rcParams['ytick.minor.width'] = plw\n",
    "plt.rcParams['ytick.minor.visible'] = True\n",
    "plt.rcParams['ytick.major.size'] = 5\n",
    "plt.rcParams[\"figure.figsize\"] = (5,4)"
   ]
  },
  {
   "cell_type": "markdown",
   "metadata": {},
   "source": [
    "### Load the LAMMPS xtc trajectory files"
   ]
  },
  {
   "cell_type": "code",
   "execution_count": 4,
   "metadata": {},
   "outputs": [
    {
     "name": "stdout",
     "output_type": "stream",
     "text": [
      "CPU times: user 5.02 ms, sys: 0 ns, total: 5.02 ms\n",
      "Wall time: 5.02 ms\n",
      "Universe: <XTCReader trajectory.17.xtc with 14735 frames of 30500 atoms>\n"
     ]
    },
    {
     "name": "stderr",
     "output_type": "stream",
     "text": [
      "/home/aaron/Packages/anaconda3/lib/python3.7/site-packages/MDAnalysis/topology/guessers.py:146: UserWarning: Failed to guess the mass for the following atom types: 1\n",
      "  warnings.warn(\"Failed to guess the mass for the following atom types: {}\".format(atom_type))\n",
      "/home/aaron/Packages/anaconda3/lib/python3.7/site-packages/MDAnalysis/topology/guessers.py:146: UserWarning: Failed to guess the mass for the following atom types: 2\n",
      "  warnings.warn(\"Failed to guess the mass for the following atom types: {}\".format(atom_type))\n",
      "/home/aaron/Packages/anaconda3/lib/python3.7/site-packages/MDAnalysis/topology/guessers.py:146: UserWarning: Failed to guess the mass for the following atom types: 3\n",
      "  warnings.warn(\"Failed to guess the mass for the following atom types: {}\".format(atom_type))\n",
      "/home/aaron/Packages/anaconda3/lib/python3.7/site-packages/MDAnalysis/topology/guessers.py:146: UserWarning: Failed to guess the mass for the following atom types: 4\n",
      "  warnings.warn(\"Failed to guess the mass for the following atom types: {}\".format(atom_type))\n",
      "/home/aaron/Packages/anaconda3/lib/python3.7/site-packages/MDAnalysis/topology/guessers.py:146: UserWarning: Failed to guess the mass for the following atom types: 5\n",
      "  warnings.warn(\"Failed to guess the mass for the following atom types: {}\".format(atom_type))\n"
     ]
    }
   ],
   "source": [
    "# 1. First load a LAMMPS data file\n",
    "LAMMPSDATA = 'lmp.data'\n",
    "u = mda.Universe(LAMMPSDATA, atom_style=\"id resid type charge x y z\")\n",
    "# Now load trajectory data\n",
    "traj_list = ['trajectory.17.xtc']\n",
    "%time u.load_new(traj_list)\n",
    "\n",
    "print('Universe:',u.trajectory)"
   ]
  },
  {
   "cell_type": "markdown",
   "metadata": {},
   "source": [
    "### Select the atoms of interest"
   ]
  },
  {
   "cell_type": "code",
   "execution_count": 5,
   "metadata": {},
   "outputs": [],
   "source": [
    "calcium = u.select_atoms('type 1')\n",
    "carbon = u.select_atoms('type 2')\n",
    "ionclusters = u.select_atoms('type 1 2')\n",
    "carbonate = u.select_atoms('type 2 4')\n",
    "wateroxygen = u.select_atoms('type 5')\n",
    "water = u.select_atoms('type 3 5')"
   ]
  },
  {
   "cell_type": "markdown",
   "metadata": {},
   "source": [
    "### Set the atom charges and masses"
   ]
  },
  {
   "cell_type": "code",
   "execution_count": 6,
   "metadata": {},
   "outputs": [],
   "source": [
    "# Atomic masses\n",
    "mca = 40.078\n",
    "mc = 12.0107\n",
    "mo = 15.9994\n",
    "mh = 1.0079\n",
    "\n",
    "calcium.masses = mca\n",
    "carbon.masses = mc\n",
    "carbonate.masses = mc + 3*mo\n",
    "wateroxygen.masses = mo\n",
    "water.masses = mo + 2*mh\n",
    "\n",
    "# Gale force field charges\n",
    "qca = 2.0000\n",
    "qc4 = 1.123285\n",
    "qo4 = -1.041095\n",
    "qo2 = -0.820000\n",
    "qh2 = 0.410000\n",
    "\n",
    "calcium.charges = qca\n",
    "carbon.charges = qc4\n",
    "carbonate.charges = qc4 + 3*qo4\n",
    "wateroxygen.charges = qo2\n",
    "water.charges = qo2 + 2*qh2"
   ]
  },
  {
   "cell_type": "markdown",
   "metadata": {},
   "source": [
    "### Calculate the Ca-C radial distribution function"
   ]
  },
  {
   "cell_type": "markdown",
   "metadata": {},
   "source": [
    "The radial distribution function is determined according to,\n",
    "<br>\n",
    "<br>\n",
    "<center> $g_{ab}(r) = (N_{a} N_{b})^{-1} \\sum_{i=1}^{N_a} \\sum_{j=1}^{N_b} \\langle \\delta(|\\mathbf{r}_i - \\mathbf{r}_j| - r) \\rangle$\n",
    "\n",
    "    \n",
    "where $N$ and $\\mathbf{r}$ are particle numbers and Cartesian coordinate vectors, respectively. See the [documentation](https://docs.mdanalysis.org/1.1.1/documentation_pages/analysis/rdf.html) for further information."
   ]
  },
  {
   "cell_type": "code",
   "execution_count": 7,
   "metadata": {},
   "outputs": [
    {
     "name": "stdout",
     "output_type": "stream",
     "text": [
      "CPU times: user 28.2 s, sys: 164 ms, total: 28.4 s\n",
      "Wall time: 28.3 s\n"
     ]
    },
    {
     "data": {
      "text/plain": [
       "<MDAnalysis.analysis.rdf.InterRDF at 0x7fb480e662b0>"
      ]
     },
     "execution_count": 7,
     "metadata": {},
     "output_type": "execute_result"
    }
   ],
   "source": [
    "# Use the functionality provided by MDAnalysis\n",
    "from MDAnalysis.analysis import rdf\n",
    "\n",
    "irdf = rdf.InterRDF(calcium, carbon,\n",
    "                    nbins=150,  # default\n",
    "                    range=(0.0, 10.0),  # distance in angstroms\n",
    "                   )\n",
    "%time irdf.run()"
   ]
  },
  {
   "cell_type": "markdown",
   "metadata": {},
   "source": [
    "### Use the potential of mean force for ion pairing to establish the first Ca sphere radius"
   ]
  },
  {
   "cell_type": "markdown",
   "metadata": {},
   "source": [
    "The potential of mean force ($\\phi(r)$) for Ca-C ion association can be determined from $g_{Ca-C}(r)$ according to,\n",
    "<br>\n",
    "<br>\n",
    "<center> $\\Delta \\phi(r) = -k_{\\mathrm{B}}T \\ln{g_{Ca-C}(r)}$\n",
    "\n",
    "It is important to recognise that without enhanced sampling of high energy states, the relative energies between states might not be converged and that the barriers for transition are likely to be inaccurate. For further information see [Finney and Salvalaglio](https://pubs.rsc.org/en/content/articlelanding/2022/fd/d1fd00089f)."
   ]
  },
  {
   "cell_type": "code",
   "execution_count": 8,
   "metadata": {},
   "outputs": [
    {
     "name": "stderr",
     "output_type": "stream",
     "text": [
      "/home/aaron/Packages/anaconda3/lib/python3.7/site-packages/MDAnalysis/analysis/rdf.py:425: DeprecationWarning: The `rdf` attribute was deprecated in MDAnalysis 2.0.0 and will be removed in MDAnalysis 3.0.0. Please use `results.rdf` instead\n",
      "  warnings.warn(wmsg, DeprecationWarning)\n",
      "/home/aaron/Packages/anaconda3/lib/python3.7/site-packages/ipykernel_launcher.py:5: RuntimeWarning: divide by zero encountered in log\n",
      "  \"\"\"\n",
      "/home/aaron/Packages/anaconda3/lib/python3.7/site-packages/MDAnalysis/analysis/rdf.py:417: DeprecationWarning: The `bins` attribute was deprecated in MDAnalysis 2.0.0 and will be removed in MDAnalysis 3.0.0. Please use `results.bins` instead\n",
      "  warnings.warn(wmsg, DeprecationWarning)\n",
      "findfont: Font family ['serif'] not found. Falling back to DejaVu Sans.\n"
     ]
    },
    {
     "name": "stdout",
     "output_type": "stream",
     "text": [
      "First PMF minimimum -11.236312543487935 r= [[3.43333333]] Angstroms\n",
      "First sphere truncation distance in Angstroms [[4.03333333]]\n"
     ]
    },
    {
     "data": {
      "image/png": "[encoded data removed]",
      "text/plain": [
       "<Figure size 360x288 with 1 Axes>"
      ]
     },
     "metadata": {
      "needs_background": "light"
     },
     "output_type": "display_data"
    }
   ],
   "source": [
    "\n",
    "# Define thermal energy\n",
    "kT = constants.R*298/1000\n",
    "\n",
    "# Boltzmann invert and plot\n",
    "pmf = -kT*np.log(irdf.rdf)\n",
    "plt.figure()\n",
    "plt.plot(irdf.bins, pmf,'b')\n",
    "plt.plot([0 ,12],[0,0],'k--',linewidth=plw)\n",
    "plt.xlim(0,12)\n",
    "plt.xlabel(r'$r \\; (\\mathrm{\\AA})$')\n",
    "plt.ylabel(r'$\\Delta \\phi$ (kJ/mol)')\n",
    "\n",
    "# Check the truncation distance for inner sphere contacts based on the pmf\n",
    "delta = irdf.bins[1] - irdf.bins[0]\n",
    "bcutoff = int(5.0/delta) # Set the maximum distance for the truncation\n",
    "\n",
    "# Identify and report the first minimum\n",
    "pmfmin = np.argwhere(pmf == np.amin(pmf[1:bcutoff]))\n",
    "print(\"First PMF minimimum\",np.amin(pmf[1:bcutoff]),\"r=\",irdf.bins[pmfmin],\"Angstroms\")\n",
    "\n",
    "# Identify and report the first maximum\n",
    "pmfmax = np.amax(pmf[np.int(pmfmin):bcutoff*2])\n",
    "truncation = np.argwhere(pmf == pmfmax)\n",
    "print(\"First sphere truncation distance in Angstroms\",irdf.bins[truncation])\n"
   ]
  },
  {
   "cell_type": "markdown",
   "metadata": {},
   "source": [
    "## Loop through frames and identify the droplet as the largest ion cluster"
   ]
  },
  {
   "cell_type": "markdown",
   "metadata": {},
   "source": [
    "Now we analyse the trajecories. We use the ```contact_matrix``` functionality from MDAnalysis to build the adjacency matrix and take this as input to NetworkX to construct the graph."
   ]
  },
  {
   "cell_type": "code",
   "execution_count": 9,
   "metadata": {
    "scrolled": false
   },
   "outputs": [],
   "source": [
    "from MDAnalysis.analysis.distances import contact_matrix\n",
    "import MDAnalysis.transformations as trans\n",
    "\n",
    "# Set the cutoff for first sphere coordination\n",
    "trunc_distance = irdf.bins[truncation] \n",
    "\n",
    "# Scaling factors\n",
    "molarity_scaling = 1e+27/constants.Avogadro\n",
    "molal_scaling = 1/((len(wateroxygen)*water.masses[0]/1000))\n",
    "\n",
    "# Plotting arrays\n",
    "time = [] # simulation time\n",
    "ncls = [] # number of clusters\n",
    "clsz = [] # cluster sizes\n",
    "dsiz = [] # droplet size\n",
    "dchg = [] # droplet charge\n",
    "drgy = [] # droplet radius of gyration\n",
    "ccat = [] # cation concentration\n",
    "cani = [] # cation concentration\n",
    "cdim = [] # dimer concentration\n",
    "ctet = [] # tetramer concentration\n",
    "chex = [] # hexamer concentration\n",
    "bcat = [] # cation molality\n",
    "bani = [] # cation molality\n",
    "\n",
    "frames = 0\n",
    "# Loop through the frames\n",
    "for ts in u.trajectory[0:-1:100]:\n",
    "    \n",
    "    # Generate the adjacancy matrix\n",
    "    adjmatrix = contact_matrix(ionclusters.positions, cutoff=trunc_distance, returntype='numpy', box=ts.dimensions)\n",
    "\n",
    "    # Generate a graph from the adjacency matrix\n",
    "    Graph = nx.Graph(adjmatrix)\n",
    "    \n",
    "    # Size of connected components in the graph\n",
    "    cluster_size = [len(c) for c in sorted(nx.connected_components(Graph), key=len, reverse=True)]\n",
    "    largest_cluster_size = cluster_size[0]\n",
    "\n",
    "    # Number of connected components\n",
    "    number_of_clusters = len(cluster_size)    \n",
    "    \n",
    "    # List of nodes in every connected component\n",
    "    cluster_members = [c for c in sorted(nx.connected_components(Graph), key=len, reverse=True)]\n",
    "    \n",
    "\n",
    "    # Get the components of the largest cluster\n",
    "    largest_cluster_indices = list(cluster_members[0])\n",
    "    droplet = u.atoms[(ionclusters.indices[largest_cluster_indices])]\n",
    "                      \n",
    "    # PROPERTIES OF THE DROPLET\n",
    "    droplet_charge = droplet.total_charge()\n",
    "    droplet_center = droplet.center_of_mass(wrap=True)\n",
    "    droplet_rgyr = droplet.radius_of_gyration(wrap=True)\n",
    "    \n",
    "    # PROPERTIES OF THE SOLUTION\n",
    "    monomer_charges = [] \n",
    "    monomer_indices = np.argwhere(np.array(cluster_size) == 1)\n",
    "    \n",
    "    # Get the dispersed ions\n",
    "    for i in range(0,monomer_indices.size):      \n",
    "        at = list(cluster_members[np.int(monomer_indices[i])]) # ion index\n",
    "\n",
    "        monomer_charges.append(u.atoms[at].charges)\n",
    "        \n",
    "    # Count the number of positive and negative ions\n",
    "    number_cations = np.sum(np.array(monomer_charges) > 0)\n",
    "    number_anions = np.sum(np.array(monomer_charges) < 0)\n",
    "    concn_cations = number_cations/ts.dimensions[0]**3*molarity_scaling*1000 #mM\n",
    "    concn_anions = number_anions/ts.dimensions[0]**3*molarity_scaling*1000 #mM\n",
    "    molal_cations = number_cations*molal_scaling*1000 #mmol\n",
    "    molal_anions = number_anions*molal_scaling*1000 #mmol\n",
    "    \n",
    "    dims = np.sum(np.array(cluster_size) == 2)\n",
    "    tets = np.sum(np.array(cluster_size) == 4)\n",
    "    hexs = np.sum(np.array(cluster_size) == 6)\n",
    "    cdim.append(dims/ts.dimensions[0]**3*molarity_scaling)\n",
    "    ctet.append(tets/ts.dimensions[0]**3*molarity_scaling)\n",
    "    chex.append(hexs/ts.dimensions[0]**3*molarity_scaling)   \n",
    "\n",
    "    # Record the data for plotting\n",
    "    time.append(ts.time/1000) # use ns units\n",
    "    ncls.append(number_of_clusters)\n",
    "    clsz.extend(cluster_size[:])\n",
    "    dsiz.append(largest_cluster_size)\n",
    "    dchg.append(droplet_charge)\n",
    "    drgy.append(droplet_rgyr/10)\n",
    "    ccat.append(concn_cations)\n",
    "    cani.append(concn_anions)\n",
    "    bcat.append(molal_cations)\n",
    "    bani.append(molal_anions)\n",
    "    \n",
    "    \n",
    "    frames += 1"
   ]
  },
  {
   "cell_type": "markdown",
   "metadata": {},
   "source": [
    "## Determine the size weighted cluster size distribution"
   ]
  },
  {
   "cell_type": "markdown",
   "metadata": {},
   "source": [
    "The distribution indicates the probability of finding an ion within a cluster of size $N$."
   ]
  },
  {
   "cell_type": "code",
   "execution_count": 10,
   "metadata": {},
   "outputs": [
    {
     "data": {
      "text/plain": [
       "[<matplotlib.lines.Line2D at 0x7fb4810ff710>]"
      ]
     },
     "execution_count": 10,
     "metadata": {},
     "output_type": "execute_result"
    },
    {
     "data": {
      "image/png": "[encoded data removed]",
      "text/plain": [
       "<Figure size 360x288 with 1 Axes>"
      ]
     },
     "metadata": {
      "needs_background": "light"
     },
     "output_type": "display_data"
    }
   ],
   "source": [
    "# Generate the probability of cluster sizes from the cluster size array clsz\n",
    "clsz = np.array(clsz)\n",
    "histmin = np.amin(clsz)\n",
    "histmax = np.amax(clsz)\n",
    "xaxis = np.arange(1,histmax+1)\n",
    "bins = xaxis.size\n",
    "\n",
    "plt.figure()\n",
    "hist, bin_edges = np.histogram(clsz, density=True, bins=bins)\n",
    "plt.ylabel(\"$N.p(N)$\")\n",
    "plt.xlabel(\"$N$ ions\")\n",
    "plt.plot(xaxis,(hist/frames)*xaxis,'b-',linewidth=2*plw)"
   ]
  },
  {
   "cell_type": "markdown",
   "metadata": {},
   "source": [
    "## Lean solution ion species"
   ]
  },
  {
   "cell_type": "markdown",
   "metadata": {},
   "source": [
    "We now estimate the free energies for the formation of ion clusters in lean solution frm $p(N)$. These were ascribed to _thermodynamically stable_ prenucleation clusters.\n",
    "\n",
    "We consider the estimates of $\\Delta F$ using Gaussian kernel densities constructed using two separate approaches, with functionality from SciPy and scikit-learn."
   ]
  },
  {
   "cell_type": "code",
   "execution_count": 11,
   "metadata": {},
   "outputs": [
    {
     "data": {
      "image/png": "[encoded data removed]",
      "text/plain": [
       "<Figure size 360x288 with 1 Axes>"
      ]
     },
     "metadata": {
      "needs_background": "light"
     },
     "output_type": "display_data"
    }
   ],
   "source": [
    "from scipy import stats\n",
    "from sklearn.neighbors import KernelDensity\n",
    "\n",
    "\n",
    "# Set an upper limit for N\n",
    "nlim=30\n",
    "\n",
    "# Estimate the Gaussian kernel density using SciPy:\n",
    "kernel = stats.gaussian_kde(clsz,bw_method=0.01)\n",
    "# Plot\n",
    "plt.plot(xaxis[:nlim],kernel(xaxis)[:nlim],'bo',markersize=pms)\n",
    "\n",
    "\n",
    "\n",
    "# Estimate the Gaussian kernel density using scikit-learn:\n",
    "kde = KernelDensity(bandwidth=2, kernel='gaussian')\n",
    "kde.fit(clsz[:, None])\n",
    "# score_samples returns the log of the probability density\n",
    "logprob = kde.score_samples(xaxis[:, None])\n",
    "# Plot\n",
    "plt.fill_between(xaxis[:nlim], np.exp(logprob)[:nlim], color='black',alpha=0.35)\n",
    "\n",
    "\n",
    "plt.ylabel(\"$p(N)$\")\n",
    "plt.xlabel(\"$N$ ions\")\n",
    "plt.yscale(\"log\")\n",
    "plt.xlim(0,nlim)\n",
    "plt.ylim(0.0001,1)\n",
    "plt.savefig('pN.png',dpi=300)"
   ]
  },
  {
   "cell_type": "markdown",
   "metadata": {},
   "source": [
    "We can evaluate $\\Delta F \\approx -k_\\mathrm{B}T \\ln{p(N)}$"
   ]
  },
  {
   "cell_type": "code",
   "execution_count": 12,
   "metadata": {},
   "outputs": [
    {
     "name": "stderr",
     "output_type": "stream",
     "text": [
      "/home/aaron/Packages/anaconda3/lib/python3.7/site-packages/ipykernel_launcher.py:1: RuntimeWarning: divide by zero encountered in log\n",
      "  \"\"\"Entry point for launching an IPython kernel.\n"
     ]
    },
    {
     "data": {
      "image/png": "[encoded data removed]",
      "text/plain": [
       "<Figure size 360x288 with 1 Axes>"
      ]
     },
     "metadata": {
      "needs_background": "light"
     },
     "output_type": "display_data"
    }
   ],
   "source": [
    "fe1 = -np.log(kernel(xaxis))\n",
    "fe2 = -np.log(np.exp(logprob))\n",
    "\n",
    "plt.plot(xaxis[:nlim],fe1[:nlim],'bo',markersize=pms)\n",
    "plt.fill_between(xaxis[:nlim], fe2[:nlim], color='black',alpha=0.35)\n",
    "\n",
    "plt.xlim(0,nlim)\n",
    "plt.ylim(0,40)\n",
    "plt.ylabel(\"$\\Delta F \\;(k_\\mathrm{B}T)$\")\n",
    "plt.xlabel(\"$N$ ions\")\n",
    "plt.savefig('FE.png',dpi=300)"
   ]
  },
  {
   "cell_type": "markdown",
   "metadata": {},
   "source": [
    "### Report average ion molalities in the steay state"
   ]
  },
  {
   "cell_type": "code",
   "execution_count": 13,
   "metadata": {},
   "outputs": [
    {
     "name": "stdout",
     "output_type": "stream",
     "text": [
      "Mean anion molality and molarity (with uncertainties)\n",
      "6.375997205963011 4.801336830821919 1.1486486486486485 0.8649704327462303\n"
     ]
    }
   ],
   "source": [
    "print('Mean anion molality and molarity (with uncertainties)')\n",
    "print(np.mean(bani),np.std(bani),np.mean(bani)/(molal_scaling*1000),np.std(bani)/(molal_scaling*1000))"
   ]
  },
  {
   "cell_type": "code",
   "execution_count": 14,
   "metadata": {
    "scrolled": true
   },
   "outputs": [
    {
     "name": "stdout",
     "output_type": "stream",
     "text": [
      "Mean cation molality and molarity (with uncertainties)\n",
      "3.112986871146647 3.0421396034180233 0.5608108108108107 0.8649704327462303\n"
     ]
    }
   ],
   "source": [
    "print('Mean cation molality and molarity (with uncertainties)')\n",
    "print(np.mean(bcat),np.std(bcat),np.mean(bcat)/(molal_scaling*1000),np.std(bani)/(molal_scaling*1000))"
   ]
  },
  {
   "cell_type": "markdown",
   "metadata": {},
   "source": [
    "## Dense CaCO$_3$ liquid "
   ]
  },
  {
   "cell_type": "code",
   "execution_count": 15,
   "metadata": {},
   "outputs": [
    {
     "data": {
      "text/plain": [
       "Text(0.5, 0, 'time (ns)')"
      ]
     },
     "execution_count": 15,
     "metadata": {},
     "output_type": "execute_result"
    },
    {
     "name": "stderr",
     "output_type": "stream",
     "text": [
      "findfont: Font family ['serif'] not found. Falling back to DejaVu Sans.\n"
     ]
    },
    {
     "data": {
      "image/png": "[encoded data removed]",
      "text/plain": [
       "<Figure size 720x720 with 6 Axes>"
      ]
     },
     "metadata": {
      "needs_background": "light"
     },
     "output_type": "display_data"
    }
   ],
   "source": [
    "#Plot the time series of droplet properties\n",
    "\n",
    "fig, [[ax0, ax1], [ax2, ax3], [ax4, ax5]] = plt.subplots(nrows=3, ncols=2, sharex=True,figsize=(10,10))  \n",
    "\n",
    "# Droplet size\n",
    "ax0.title.set_text('Droplet size')\n",
    "ax0.set_ylabel(\"$N$ ions\")\n",
    "ax0.plot(time,dsiz,'k-',linewidth=1)\n",
    "\n",
    "# Radius of gyration\n",
    "ax1.title.set_text('Droplet radius of gyration')\n",
    "ax1.set_ylabel(\"nm\")\n",
    "ax1.plot(time,drgy,'k-',linewidth=1)\n",
    "\n",
    "# Droplet net ionic charge\n",
    "ax2.title.set_text('Droplet net charge')\n",
    "ax2.set_ylabel(\"$e$\")\n",
    "ax2.plot(time,dchg,'ko',markersize=pms)\n",
    "\n",
    "# Number of clusters\n",
    "ax3.title.set_text('Number of clusters')\n",
    "ax3.set_ylabel(\"\")\n",
    "ax3.plot(time,ncls,'k-',linewidth=1)\n",
    "\n",
    "# Free ion molalities\n",
    "ax4.title.set_text('Solution molalilities')\n",
    "ax4.set_ylabel(\"mmol/kg\")\n",
    "ax4.plot(time[1:-1],bani[1:-1],'ko',markersize=pms, label='anions')\n",
    "ax4.plot(time[1:-1],bcat[1:-1],'ro',markersize=pms, label='cations')\n",
    "legend = ax4.legend(loc='upper center')\n",
    "ax4.set_xlabel(\"time (ns)\")\n",
    "\n",
    "# Free ion molalities\n",
    "ax5.title.set_text('Dispersed ions')\n",
    "ax5.set_ylabel(\"$N$ ions\")\n",
    "ax5.plot(time[10:-1],np.array(bani[10:-1])/(molal_scaling*1000),'ko',markersize=pms, label='anions')\n",
    "ax5.plot(time[10:-1],np.array(bcat[10:-1])/(molal_scaling*1000),'ro',markersize=pms, label='cations')\n",
    "legend = ax5.legend(loc='upper center')\n",
    "ax5.set_xlabel(\"time (ns)\")\n"
   ]
  },
  {
   "cell_type": "markdown",
   "metadata": {},
   "source": [
    "### Visualise the largest cluster using NGLView"
   ]
  },
  {
   "cell_type": "code",
   "execution_count": 16,
   "metadata": {},
   "outputs": [
    {
     "data": {
      "application/vnd.jupyter.widget-view+json": {
       "model_id": "79a8a04bb13447bcb41cb1878943990b",
       "version_major": 2,
       "version_minor": 0
      },
      "text/plain": [
       "NGLWidget(background='black', max_frame=14734)"
      ]
     },
     "metadata": {},
     "output_type": "display_data"
    }
   ],
   "source": [
    "view = nv.show_mdanalysis(droplet)\n",
    "view.clear_representations()\n",
    "view.add_surface(selection=\"droplet\", opacity=0.3)\n",
    "view.background = 'black'\n",
    "view.center()\n",
    "view\n"
   ]
  },
  {
   "cell_type": "code",
   "execution_count": null,
   "metadata": {},
   "outputs": [],
   "source": []
  }
 ],
 "metadata": {
  "kernelspec": {
   "display_name": "Python 3",
   "language": "python",
   "name": "python3"
  },
  "language_info": {
   "codemirror_mode": {
    "name": "ipython",
    "version": 3
   },
   "file_extension": ".py",
   "mimetype": "text/x-python",
   "name": "python",
   "nbconvert_exporter": "python",
   "pygments_lexer": "ipython3",
   "version": "3.7.3"
  }
 },
 "nbformat": 4,
 "nbformat_minor": 4
}
